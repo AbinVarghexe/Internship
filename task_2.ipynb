{
 "cells": [
  {
   "cell_type": "code",
   "execution_count": null,
   "id": "74fcbf90",
   "metadata": {},
   "outputs": [],
   "source": [
    "import pandas as pd\n",
    "import numpy as np\n",
    "from sklearn.preprocessing import OneHotEncoder, MinMaxScaler\n",
    "from sklearn.metrics.pairwise import cosine_similarity\n",
    "import ipywidgets as widgets\n",
    "from IPython.display import display, clear_output"
   ]
  },
  {
   "cell_type": "code",
   "execution_count": null,
   "id": "7bacd319",
   "metadata": {},
   "outputs": [],
   "source": [
    "df = pd.read_csv('Dataset .csv')\n",
    "df.info(), df.head()"
   ]
  },
  {
   "cell_type": "code",
   "execution_count": null,
   "id": "2e9a5fa9",
   "metadata": {},
   "outputs": [],
   "source": [
    "df['Cuisines'] = df['Cuisines'].fillna('Other')"
   ]
  },
  {
   "cell_type": "code",
   "execution_count": null,
   "id": "336436e0",
   "metadata": {},
   "outputs": [],
   "source": [
    "df['Cuisines'] = df['Cuisines'].apply(lambda x: x.split(',')[0].strip())\n",
    "features = df[['Cuisines', 'Price range', 'Aggregate rating', 'Votes', 'Average Cost for two', 'City']].copy()\n",
    "encoder = OneHotEncoder(sparse_output=False)\n",
    "encoded_features = encoder.fit_transform(features[['Cuisines', 'Price range', 'City']])\n",
    "encoded_features = pd.DataFrame(encoded_features, columns=encoder.get_feature_names_out(['Cuisines', 'Price range', 'City']))"
   ]
  },
  {
   "cell_type": "code",
   "execution_count": null,
   "id": "7390143a",
   "metadata": {},
   "outputs": [],
   "source": [
    "scaler = MinMaxScaler()\n",
    "rating_scaled = scaler.fit_transform(features[['Aggregate rating']])"
   ]
  },
  {
   "cell_type": "code",
   "execution_count": null,
   "id": "280525f1",
   "metadata": {},
   "outputs": [],
   "source": [
    "combined_features = np.hstack([encoded_features, rating_scaled])\n",
    "restaurant_names = df['Restaurant Name'].reset_index(drop=True)\n",
    "combined_features.shape, restaurant_names.head()"
   ]
  },
  {
   "cell_type": "code",
   "execution_count": null,
   "id": "05371aef",
   "metadata": {},
   "outputs": [],
   "source": [
    "price_bins = {\n",
    "    1: (0, 200),\n",
    "    2: (200, 500),\n",
    "    3: (500, 1000),\n",
    "    4: (1000, float('inf'))\n",
    "}\n",
    "def recommend_restaurants(cuisine_preference, budget_min, budget_max, city_preference, top_n=5):\n",
    "\n",
    "    filtered_df = df[\n",
    "        (df['Average Cost for two'] >= budget_min) & \n",
    "        (df['Average Cost for two'] <= budget_max) &\n",
    "        (df['City'] == city_preference)\n",
    "    ]\n",
    "\n",
    "    if filtered_df.empty:\n",
    "        return pd.DataFrame({'Message': ['No restaurants match your preferences.']})\n",
    "\n",
    "    filtered_encoded = encoder.transform(filtered_df[['Cuisines', 'Price range', 'City']])\n",
    "    filtered_ratings = scaler.transform(filtered_df[['Aggregate rating']])\n",
    "    filtered_features = np.hstack([filtered_encoded, filtered_ratings])\n",
    "\n",
    "    user_encoded = encoder.transform([[cuisine_preference, 2, city_preference]]) \n",
    "    avg_rating = np.array([[0.5]])\n",
    "    user_profile = np.hstack([user_encoded, avg_rating])\n",
    "\n",
    "    similarity_scores = cosine_similarity(user_profile, filtered_features)[0]\n",
    "    top_indices = similarity_scores.argsort()[-top_n:][::-1]\n",
    "    \n",
    "    result_df = filtered_df.iloc[top_indices].copy()\n",
    "    \n",
    "    result_df['Similarity Score'] = similarity_scores[top_indices]\n",
    "    \n",
    "    return result_df[['Restaurant Name', 'Cuisines', 'Average Cost for two', 'Aggregate rating', 'Similarity Score']]\n",
    "\n"
   ]
  },
  {
   "cell_type": "code",
   "execution_count": null,
   "id": "e394136c",
   "metadata": {},
   "outputs": [],
   "source": [
    "cuisine_widget = widgets.Dropdown(\n",
    "    options=sorted(df['Cuisines'].dropna().unique()),\n",
    "    description='Cuisine:',\n",
    "    style={'description_width': 'initial'}\n",
    ")\n",
    "\n",
    "city_widget = widgets.Dropdown(\n",
    "    options=sorted(df['City'].dropna().unique()),\n",
    "    description='City:',\n",
    "    style={'description_width': 'initial'}\n",
    ")\n",
    "\n",
    "price_slider = widgets.IntRangeSlider(\n",
    "    value=[100, 500],\n",
    "    min=0,\n",
    "    max=2000,\n",
    "    step=50,\n",
    "    description='Price Range (₹):',\n",
    "    style={'description_width': 'initial'},\n",
    "    layout=widgets.Layout(width='70%')\n",
    ")\n",
    "\n",
    "submit_button = widgets.Button(\n",
    "    description='Get Recommendations',\n",
    "    button_style='success',\n",
    "    tooltip='Click to get recommendations'\n",
    ")\n",
    "\n",
    "output = widgets.Output()\n"
   ]
  },
  {
   "cell_type": "code",
   "execution_count": null,
   "id": "92e22037",
   "metadata": {},
   "outputs": [],
   "source": [
    "def on_submit(b):\n",
    "    with output:\n",
    "        clear_output()\n",
    "        cuisine = cuisine_widget.value\n",
    "        city = city_widget.value\n",
    "        min_price, max_price = price_slider.value\n",
    "\n",
    "        print(f\"Showing recommendations for {cuisine} cuisine in {city} (₹{min_price}–₹{max_price})\")\n",
    "        display(recommend_restaurants(cuisine, min_price, max_price, city))\n",
    "submit_button.on_click(on_submit)"
   ]
  },
  {
   "cell_type": "code",
   "execution_count": 37,
   "id": "43c348a9",
   "metadata": {},
   "outputs": [
    {
     "data": {
      "application/vnd.jupyter.widget-view+json": {
       "model_id": "173d9e9bb61b4dc18a5ef68f3ae1abea",
       "version_major": 2,
       "version_minor": 0
      },
      "text/plain": [
       "VBox(children=(Dropdown(description='Cuisine:', options=('Afghani', 'African', 'American', 'Andhra', 'Arabian'…"
      ]
     },
     "metadata": {},
     "output_type": "display_data"
    }
   ],
   "source": [
    "display(widgets.VBox([\n",
    "    cuisine_widget,\n",
    "    city_widget,\n",
    "    price_slider,\n",
    "    submit_button,\n",
    "    output\n",
    "]))\n"
   ]
  }
 ],
 "metadata": {
  "kernelspec": {
   "display_name": "base",
   "language": "python",
   "name": "python3"
  },
  "language_info": {
   "codemirror_mode": {
    "name": "ipython",
    "version": 3
   },
   "file_extension": ".py",
   "mimetype": "text/x-python",
   "name": "python",
   "nbconvert_exporter": "python",
   "pygments_lexer": "ipython3",
   "version": "3.12.4"
  }
 },
 "nbformat": 4,
 "nbformat_minor": 5
}
