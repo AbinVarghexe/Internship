{
 "cells": [
  {
   "cell_type": "code",
   "execution_count": 13,
   "id": "74fcbf90",
   "metadata": {},
   "outputs": [
    {
     "name": "stdout",
     "output_type": "stream",
     "text": [
      "Note: you may need to restart the kernel to use updated packages.\n"
     ]
    }
   ],
   "source": [
    "%pip install ipywidgets -q\n",
    "import pandas as pd\n",
    "import numpy as np\n",
    "from sklearn.preprocessing import OneHotEncoder, MinMaxScaler\n",
    "from sklearn.metrics.pairwise import cosine_similarity\n",
    "import ipywidgets as widgets\n",
    "from IPython.display import display, clear_output\n"
   ]
  },
  {
   "cell_type": "code",
   "execution_count": 14,
   "id": "7bacd319",
   "metadata": {},
   "outputs": [
    {
     "name": "stdout",
     "output_type": "stream",
     "text": [
      "<class 'pandas.core.frame.DataFrame'>\n",
      "RangeIndex: 9551 entries, 0 to 9550\n",
      "Data columns (total 21 columns):\n",
      " #   Column                Non-Null Count  Dtype  \n",
      "---  ------                --------------  -----  \n",
      " 0   Restaurant ID         9551 non-null   int64  \n",
      " 1   Restaurant Name       9551 non-null   object \n",
      " 2   Country Code          9551 non-null   int64  \n",
      " 3   City                  9551 non-null   object \n",
      " 4   Address               9551 non-null   object \n",
      " 5   Locality              9551 non-null   object \n",
      " 6   Locality Verbose      9551 non-null   object \n",
      " 7   Longitude             9551 non-null   float64\n",
      " 8   Latitude              9551 non-null   float64\n",
      " 9   Cuisines              9542 non-null   object \n",
      " 10  Average Cost for two  9551 non-null   int64  \n",
      " 11  Currency              9551 non-null   object \n",
      " 12  Has Table booking     9551 non-null   object \n",
      " 13  Has Online delivery   9551 non-null   object \n",
      " 14  Is delivering now     9551 non-null   object \n",
      " 15  Switch to order menu  9551 non-null   object \n",
      " 16  Price range           9551 non-null   int64  \n",
      " 17  Aggregate rating      9551 non-null   float64\n",
      " 18  Rating color          9551 non-null   object \n",
      " 19  Rating text           9551 non-null   object \n",
      " 20  Votes                 9551 non-null   int64  \n",
      "dtypes: float64(3), int64(5), object(13)\n",
      "memory usage: 1.5+ MB\n"
     ]
    },
    {
     "data": {
      "text/plain": [
       "(None,\n",
       "    Restaurant ID         Restaurant Name  Country Code              City  \\\n",
       " 0        6317637        Le Petit Souffle           162       Makati City   \n",
       " 1        6304287        Izakaya Kikufuji           162       Makati City   \n",
       " 2        6300002  Heat - Edsa Shangri-La           162  Mandaluyong City   \n",
       " 3        6318506                    Ooma           162  Mandaluyong City   \n",
       " 4        6314302             Sambo Kojin           162  Mandaluyong City   \n",
       " \n",
       "                                              Address  \\\n",
       " 0  Third Floor, Century City Mall, Kalayaan Avenu...   \n",
       " 1  Little Tokyo, 2277 Chino Roces Avenue, Legaspi...   \n",
       " 2  Edsa Shangri-La, 1 Garden Way, Ortigas, Mandal...   \n",
       " 3  Third Floor, Mega Fashion Hall, SM Megamall, O...   \n",
       " 4  Third Floor, Mega Atrium, SM Megamall, Ortigas...   \n",
       " \n",
       "                                      Locality  \\\n",
       " 0   Century City Mall, Poblacion, Makati City   \n",
       " 1  Little Tokyo, Legaspi Village, Makati City   \n",
       " 2  Edsa Shangri-La, Ortigas, Mandaluyong City   \n",
       " 3      SM Megamall, Ortigas, Mandaluyong City   \n",
       " 4      SM Megamall, Ortigas, Mandaluyong City   \n",
       " \n",
       "                                     Locality Verbose   Longitude   Latitude  \\\n",
       " 0  Century City Mall, Poblacion, Makati City, Mak...  121.027535  14.565443   \n",
       " 1  Little Tokyo, Legaspi Village, Makati City, Ma...  121.014101  14.553708   \n",
       " 2  Edsa Shangri-La, Ortigas, Mandaluyong City, Ma...  121.056831  14.581404   \n",
       " 3  SM Megamall, Ortigas, Mandaluyong City, Mandal...  121.056475  14.585318   \n",
       " 4  SM Megamall, Ortigas, Mandaluyong City, Mandal...  121.057508  14.584450   \n",
       " \n",
       "                            Cuisines  ...          Currency Has Table booking  \\\n",
       " 0        French, Japanese, Desserts  ...  Botswana Pula(P)               Yes   \n",
       " 1                          Japanese  ...  Botswana Pula(P)               Yes   \n",
       " 2  Seafood, Asian, Filipino, Indian  ...  Botswana Pula(P)               Yes   \n",
       " 3                   Japanese, Sushi  ...  Botswana Pula(P)                No   \n",
       " 4                  Japanese, Korean  ...  Botswana Pula(P)               Yes   \n",
       " \n",
       "   Has Online delivery Is delivering now Switch to order menu Price range  \\\n",
       " 0                  No                No                   No           3   \n",
       " 1                  No                No                   No           3   \n",
       " 2                  No                No                   No           4   \n",
       " 3                  No                No                   No           4   \n",
       " 4                  No                No                   No           4   \n",
       " \n",
       "    Aggregate rating  Rating color Rating text Votes  \n",
       " 0               4.8    Dark Green   Excellent   314  \n",
       " 1               4.5    Dark Green   Excellent   591  \n",
       " 2               4.4         Green   Very Good   270  \n",
       " 3               4.9    Dark Green   Excellent   365  \n",
       " 4               4.8    Dark Green   Excellent   229  \n",
       " \n",
       " [5 rows x 21 columns])"
      ]
     },
     "execution_count": 14,
     "metadata": {},
     "output_type": "execute_result"
    }
   ],
   "source": [
    "df = pd.read_csv('Dataset .csv')\n",
    "df.info(), df.head()"
   ]
  },
  {
   "cell_type": "code",
   "execution_count": 15,
   "id": "2e9a5fa9",
   "metadata": {},
   "outputs": [],
   "source": [
    "df['Cuisines'] = df['Cuisines'].fillna('Other')"
   ]
  },
  {
   "cell_type": "code",
   "execution_count": 16,
   "id": "336436e0",
   "metadata": {},
   "outputs": [],
   "source": [
    "df['Cuisines'] = df['Cuisines'].apply(lambda x: x.split(',')[0].strip())\n",
    "\n",
    "features = df[['Cuisines', 'Price range', 'Aggregate rating', 'Votes', 'Average Cost for two', 'City']].copy()\n",
    "\n",
    "encoder = OneHotEncoder(sparse_output=False)\n",
    "encoded_features = encoder.fit_transform(features[['Cuisines', 'Price range', 'City']])\n",
    "encoded_features = pd.DataFrame(encoded_features, columns=encoder.get_feature_names_out(['Cuisines', 'Price range', 'City']))"
   ]
  },
  {
   "cell_type": "code",
   "execution_count": 17,
   "id": "7390143a",
   "metadata": {},
   "outputs": [],
   "source": [
    "scaler = MinMaxScaler()\n",
    "rating_scaled = scaler.fit_transform(features[['Aggregate rating']])"
   ]
  },
  {
   "cell_type": "code",
   "execution_count": 18,
   "id": "280525f1",
   "metadata": {},
   "outputs": [
    {
     "data": {
      "text/plain": [
       "((9551, 266),\n",
       " 0          Le Petit Souffle\n",
       " 1          Izakaya Kikufuji\n",
       " 2    Heat - Edsa Shangri-La\n",
       " 3                      Ooma\n",
       " 4               Sambo Kojin\n",
       " Name: Restaurant Name, dtype: object)"
      ]
     },
     "execution_count": 18,
     "metadata": {},
     "output_type": "execute_result"
    }
   ],
   "source": [
    "combined_features = np.hstack([encoded_features, rating_scaled])\n",
    "\n",
    "restaurant_names = df['Restaurant Name'].reset_index(drop=True)\n",
    "\n",
    "combined_features.shape, restaurant_names.head()"
   ]
  },
  {
   "cell_type": "code",
   "execution_count": null,
   "id": "05371aef",
   "metadata": {},
   "outputs": [],
   "source": [
    "# Add this mapping\n",
    "price_bins = {\n",
    "    1: (0, 200),\n",
    "    2: (200, 500),\n",
    "    3: (500, 1000),\n",
    "    4: (1000, float('inf'))\n",
    "}\n",
    "def recommend_restaurants(cuisine_preference, budget_min, budget_max, city_preference, top_n=5):\n",
    "    # Filter based on price range\n",
    "    filtered_df = df[\n",
    "        (df['Average Cost for two'] >= budget_min) & \n",
    "        (df['Average Cost for two'] <= budget_max) &\n",
    "        (df['City'] == city_preference)\n",
    "    ]\n",
    "\n",
    "    if filtered_df.empty:\n",
    "        return pd.DataFrame({'Message': ['No restaurants match your preferences.']})\n",
    "\n",
    "    filtered_encoded = encoder.transform(filtered_df[['Cuisines', 'Price range', 'City']])\n",
    "    filtered_ratings = scaler.transform(filtered_df[['Aggregate rating']])\n",
    "    filtered_features = np.hstack([filtered_encoded, filtered_ratings])\n",
    "\n",
    "    user_encoded = encoder.transform([[cuisine_preference, 2, city_preference]]) \n",
    "    avg_rating = np.array([[0.5]])\n",
    "    user_profile = np.hstack([user_encoded, avg_rating])\n",
    "\n",
    "    similarity_scores = cosine_similarity(user_profile, filtered_features)[0]\n",
    "    top_indices = similarity_scores.argsort()[-top_n:][::-1]\n",
    "    \n",
    "    # Create a copy of the filtered dataframe with selected indices\n",
    "    result_df = filtered_df.iloc[top_indices].copy()\n",
    "    \n",
    "    # Add similarity scores to the result dataframe\n",
    "    result_df['Similarity Score'] = similarity_scores[top_indices]\n",
    "    # Format similarity scores as percentage with 2 decimal points\n",
    "    result_df['Similarity Score'] = result_df['Similarity Score'].apply(lambda x: f\"{x:.2%}\")\n",
    "    \n",
    "    return result_df[['Restaurant Name', 'Cuisines', 'Average Cost for two', 'Aggregate rating', 'Similarity Score']]\n",
    "\n"
   ]
  },
  {
   "cell_type": "code",
   "execution_count": 20,
   "id": "e394136c",
   "metadata": {},
   "outputs": [],
   "source": [
    "cuisine_widget = widgets.Dropdown(\n",
    "    options=sorted(df['Cuisines'].dropna().unique()),\n",
    "    description='Cuisine:',\n",
    "    style={'description_width': 'initial'}\n",
    ")\n",
    "\n",
    "city_widget = widgets.Dropdown(\n",
    "    options=sorted(df['City'].dropna().unique()),\n",
    "    description='City:',\n",
    "    style={'description_width': 'initial'}\n",
    ")\n",
    "\n",
    "price_slider = widgets.IntRangeSlider(\n",
    "    value=[100, 500],\n",
    "    min=0,\n",
    "    max=2000,\n",
    "    step=50,\n",
    "    description='Price Range (₹):',\n",
    "    style={'description_width': 'initial'},\n",
    "    layout=widgets.Layout(width='70%')\n",
    ")\n",
    "\n",
    "submit_button = widgets.Button(\n",
    "    description='Get Recommendations',\n",
    "    button_style='success',\n",
    "    tooltip='Click to get recommendations'\n",
    ")\n",
    "\n",
    "output = widgets.Output()\n"
   ]
  },
  {
   "cell_type": "code",
   "execution_count": 21,
   "id": "92e22037",
   "metadata": {},
   "outputs": [],
   "source": [
    "def on_submit(b):\n",
    "    with output:\n",
    "        clear_output()\n",
    "        cuisine = cuisine_widget.value\n",
    "        city = city_widget.value\n",
    "        min_price, max_price = price_slider.value\n",
    "\n",
    "        print(f\"Showing recommendations for {cuisine} cuisine in {city} (₹{min_price}–₹{max_price})\")\n",
    "        display(recommend_restaurants(cuisine, min_price, max_price, city))\n",
    "submit_button.on_click(on_submit)"
   ]
  },
  {
   "cell_type": "code",
   "execution_count": 22,
   "id": "43c348a9",
   "metadata": {},
   "outputs": [
    {
     "data": {
      "application/vnd.jupyter.widget-view+json": {
       "model_id": "8a162f223bde44d49167c6cd70d1296d",
       "version_major": 2,
       "version_minor": 0
      },
      "text/plain": [
       "VBox(children=(Dropdown(description='Cuisine:', options=('Afghani', 'African', 'American', 'Andhra', 'Arabian'…"
      ]
     },
     "metadata": {},
     "output_type": "display_data"
    }
   ],
   "source": [
    "display(widgets.VBox([\n",
    "    cuisine_widget,\n",
    "    city_widget,\n",
    "    price_slider,\n",
    "    submit_button,\n",
    "    output\n",
    "]))\n"
   ]
  },
  {
   "cell_type": "code",
   "execution_count": 27,
   "id": "135e4cd4",
   "metadata": {},
   "outputs": [],
   "source": []
  },
  {
   "cell_type": "code",
   "execution_count": null,
   "id": "924de77c",
   "metadata": {},
   "outputs": [
    {
     "name": "stderr",
     "output_type": "stream",
     "text": [
      "c:\\Users\\bossg\\miniconda3\\Lib\\site-packages\\sklearn\\utils\\validation.py:2739: UserWarning: X does not have valid feature names, but OneHotEncoder was fitted with feature names\n",
      "  warnings.warn(\n"
     ]
    },
    {
     "data": {
      "text/html": [
       "<div>\n",
       "<style scoped>\n",
       "    .dataframe tbody tr th:only-of-type {\n",
       "        vertical-align: middle;\n",
       "    }\n",
       "\n",
       "    .dataframe tbody tr th {\n",
       "        vertical-align: top;\n",
       "    }\n",
       "\n",
       "    .dataframe thead th {\n",
       "        text-align: right;\n",
       "    }\n",
       "</style>\n",
       "<table border=\"1\" class=\"dataframe\">\n",
       "  <thead>\n",
       "    <tr style=\"text-align: right;\">\n",
       "      <th></th>\n",
       "      <th>Restaurant Name</th>\n",
       "      <th>Cuisines</th>\n",
       "      <th>Average Cost for two</th>\n",
       "      <th>Aggregate rating</th>\n",
       "      <th>Similarity Score</th>\n",
       "    </tr>\n",
       "  </thead>\n",
       "  <tbody>\n",
       "    <tr>\n",
       "      <th>0</th>\n",
       "      <td>Eat Street</td>\n",
       "      <td>North Indian</td>\n",
       "      <td>400</td>\n",
       "      <td>4.3</td>\n",
       "      <td>0.411032</td>\n",
       "    </tr>\n",
       "  </tbody>\n",
       "</table>\n",
       "</div>"
      ],
      "text/plain": [
       "  Restaurant Name      Cuisines  Average Cost for two  Aggregate rating  \\\n",
       "0      Eat Street  North Indian                   400               4.3   \n",
       "\n",
       "   Similarity Score  \n",
       "0          0.411032  "
      ]
     },
     "execution_count": 28,
     "metadata": {},
     "output_type": "execute_result"
    }
   ],
   "source": [
    "# Fix the function call with correct parameters\n",
    "recommend_restaurants('Chinese', 0, 1000, 'Bangalore')\n"
   ]
  }
 ],
 "metadata": {
  "kernelspec": {
   "display_name": "base",
   "language": "python",
   "name": "python3"
  },
  "language_info": {
   "codemirror_mode": {
    "name": "ipython",
    "version": 3
   },
   "file_extension": ".py",
   "mimetype": "text/x-python",
   "name": "python",
   "nbconvert_exporter": "python",
   "pygments_lexer": "ipython3",
   "version": "3.12.4"
  }
 },
 "nbformat": 4,
 "nbformat_minor": 5
}
