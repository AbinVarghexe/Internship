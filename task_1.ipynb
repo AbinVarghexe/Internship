{
 "cells": [
  {
   "cell_type": "code",
   "execution_count": null,
   "id": "6969b188",
   "metadata": {},
   "outputs": [],
   "source": [
    "import pandas as pd\n",
    "import numpy as np\n",
    "import matplotlib.pyplot as plt\n",
    "import seaborn as sns\n",
    "from sklearn.model_selection import train_test_split\n",
    "from sklearn.preprocessing import StandardScaler\n",
    "from sklearn.linear_model import LinearRegression\n",
    "from sklearn.metrics import r2_score, mean_squared_error, mean_absolute_error"
   ]
  },
  {
   "cell_type": "code",
   "execution_count": null,
   "id": "6bdadda3",
   "metadata": {},
   "outputs": [],
   "source": [
    "plt.style.use('seaborn-v0_8-whitegrid') \n",
    "sns.set_context(\"notebook\", font_scale=1.5)\n",
    "sns.set_palette('viridis')\n",
    "plt.rcParams['figure.figsize'] = (12, 6)"
   ]
  },
  {
   "cell_type": "code",
   "execution_count": null,
   "id": "591b4c4f",
   "metadata": {},
   "outputs": [],
   "source": [
    "try:\n",
    "    data = pd.read_csv('Dataset .csv')\n",
    "    print(\"Dataset shape:\", data.shape)\n",
    "    print(\"Dataset info:\")\n",
    "    display(data.info())\n",
    "    display(data.head())\n",
    "    \n",
    "except Exception as e:\n",
    "    print(f\"An error occurred: {e}\")"
   ]
  },
  {
   "cell_type": "code",
   "execution_count": null,
   "id": "afc190c3",
   "metadata": {},
   "outputs": [],
   "source": [
    "print(\"Missing values in the dataset:\")\n",
    "plt.figure(figsize=(10, 6))\n",
    "missing = data.isnull().sum()\n",
    "missing = missing[missing > 0].sort_values(ascending=False)\n",
    "if len(missing) > 0:\n",
    "    sns.barplot(x=missing.index, y=missing.values)\n",
    "    plt.title('Missing Values by Column')\n",
    "    plt.xticks(rotation=0, ha='center')\n",
    "    plt.xlabel('Columns')\n",
    "    plt.ylabel('Count')\n",
    "    plt.tight_layout()\n",
    "    \n",
    "else:\n",
    "    print(\"No missing values in the dataset.\")"
   ]
  },
  {
   "cell_type": "code",
   "execution_count": null,
   "id": "4d6ac640",
   "metadata": {},
   "outputs": [],
   "source": [
    "data['Cuisines'].fillna(data['Cuisines'].mode()[0], inplace=True)"
   ]
  },
  {
   "cell_type": "code",
   "execution_count": null,
   "id": "1cea0fb2",
   "metadata": {},
   "outputs": [],
   "source": [
    "\n",
    "categorical_features = ['Has Table booking', 'Has Online delivery', 'Is delivering now', 'Switch to order menu', 'Rating color', 'Rating text']\n",
    "data_encoded = pd.get_dummies(data, columns=categorical_features, drop_first=True)\n"
   ]
  },
  {
   "cell_type": "code",
   "execution_count": null,
   "id": "fb4151f7",
   "metadata": {},
   "outputs": [],
   "source": [
    "X = data_encoded.drop('Aggregate rating', axis=1)  \n",
    "y = data_encoded['Aggregate rating']              \n",
    "\n",
    "\n",
    "text_columns = ['Restaurant Name', 'Address']\n",
    "X_numeric = X.drop(columns=text_columns, errors='ignore')\n",
    "\n",
    "X_train, X_test, y_train, y_test = train_test_split(\n",
    "    X, y, test_size=0.2, random_state=42\n",
    ")\n",
    "\n",
    "print(f\"Training set shape: {X_train.shape}\")\n",
    "print(f\"Testing set shape: {X_test.shape}\")"
   ]
  },
  {
   "cell_type": "code",
   "execution_count": null,
   "id": "6c544c3f",
   "metadata": {},
   "outputs": [],
   "source": [
    "\n",
    "\n",
    "# Filter only numeric columns for model training\n",
    "X_train_numeric = X_train.select_dtypes(include=['int64', 'float64', 'bool']).copy()\n",
    "X_test_numeric = X_test.select_dtypes(include=['int64', 'float64', 'bool']).copy()\n",
    "\n",
    "print(\"\\n### Training Linear Regression model ###\")\n",
    "print(f\"Using {X_train_numeric.shape[1]} numeric features for regression\")\n",
    "linear_model = LinearRegression()\n",
    "\n",
    "linear_model.fit(X_train_numeric, y_train)\n",
    "y_pred = linear_model.predict(X_test_numeric)\n",
    "r2 = r2_score(y_test, y_pred)\n",
    "\n",
    "# Create feature importance dataframe for visualization in later cells\n",
    "feature_importance = pd.DataFrame({\n",
    "\t'Feature': X_train_numeric.columns,\n",
    "\t'Coefficient': linear_model.coef_\n",
    "})"
   ]
  },
  {
   "cell_type": "code",
   "execution_count": null,
   "id": "98e6617e",
   "metadata": {},
   "outputs": [],
   "source": [
    "print(\"Traning complete.\")\n",
    "print(f\"Linear Regression Model Performance:\")\n",
    "print(f\"  R²: {r2:.4f}\")"
   ]
  },
  {
   "cell_type": "code",
   "execution_count": null,
   "id": "62927ce8",
   "metadata": {},
   "outputs": [],
   "source": [
    "# Enhanced visualization cell for your notebook\n",
    "\n",
    "# 1. Feature importance visualization - simplified and focused\n",
    "feature_importance['Absolute_Coefficient'] = np.abs(feature_importance['Coefficient'])\n",
    "top_features = feature_importance.sort_values('Absolute_Coefficient', ascending=False).head(10)\n",
    "\n",
    "plt.figure(figsize=(10, 7))\n",
    "sns.barplot(x='Absolute_Coefficient', y='Feature', data=top_features)\n",
    "plt.title(\"Most Influential Features for Restaurant Ratings\", fontsize=16)\n",
    "plt.xlabel(\"Impact Magnitude\", fontsize=14)\n",
    "plt.ylabel(\"Features\", fontsize=14)\n",
    "plt.tight_layout()\n",
    "plt.show()\n",
    "\n",
    "# 2. Feature correlation with target - single clear visualization\n",
    "numeric_columns = ['Longitude', 'Latitude', 'Average Cost for two', 'Votes', 'Price range', 'Aggregate rating']\n",
    "df_numeric = data[numeric_columns]\n",
    "\n",
    "plt.figure(figsize=(9, 7))\n",
    "corr_matrix = df_numeric.corr()\n",
    "mask = np.zeros_like(corr_matrix)\n",
    "mask[np.triu_indices_from(mask)] = True\n",
    "sns.heatmap(corr_matrix, annot=True, cmap='coolwarm', fmt=\".2f\", mask=mask)\n",
    "plt.title(\"Feature Correlations\", fontsize=16)\n",
    "plt.tight_layout()\n",
    "plt.show()\n",
    "\n",
    "# 3. Actual vs Predicted plot - essential for model evaluation\n",
    "plt.figure(figsize=(9, 6))\n",
    "plt.scatter(y_test, y_pred, alpha=0.6)\n",
    "plt.plot([y_test.min(), y_test.max()], [y_test.min(), y_test.max()], 'r--')\n",
    "plt.xlabel('Actual Ratings', fontsize=14)\n",
    "plt.ylabel('Predicted Ratings', fontsize=14)\n",
    "plt.title(f'Model Accuracy (R² = {r2:.3f})', fontsize=16)\n",
    "plt.tight_layout()\n",
    "plt.show()\n",
    "\n",
    "# 4. Geographic insights - maintained for location analysis\n",
    "plt.figure(figsize=(12, 8))\n",
    "scatter = plt.scatter(data['Longitude'], data['Latitude'], \n",
    "                     c=data['Aggregate rating'], cmap='viridis', \n",
    "                     alpha=0.6, s=data['Votes']/50)\n",
    "plt.colorbar(scatter, label='Rating')\n",
    "plt.title('Geographic Distribution of Restaurant Ratings', fontsize=16)\n",
    "plt.xlabel('Longitude', fontsize=14)\n",
    "plt.ylabel('Latitude', fontsize=14)\n",
    "plt.tight_layout()\n",
    "plt.show()\n",
    "\n",
    "# 5. Rating distribution - simplified\n",
    "if 'Rating text' in data.columns:\n",
    "    plt.figure(figsize=(10, 6))\n",
    "    ax = sns.countplot(x='Rating text', data=data, palette='viridis')\n",
    "    plt.title('Distribution of Rating Categories', fontsize=16)\n",
    "    plt.xlabel('Rating Category', fontsize=14)\n",
    "    plt.ylabel('Number of Restaurants', fontsize=14)\n",
    "    \n",
    "    # Add count labels on top of bars\n",
    "    for p in ax.patches:\n",
    "        ax.annotate(f'{int(p.get_height())}', \n",
    "                    (p.get_x() + p.get_width()/2., p.get_height()), \n",
    "                    ha='center', va='bottom')\n",
    "    \n",
    "    plt.tight_layout()\n",
    "    plt.show()"
   ]
  }
 ],
 "metadata": {
  "kernelspec": {
   "display_name": "base",
   "language": "python",
   "name": "python3"
  },
  "language_info": {
   "codemirror_mode": {
    "name": "ipython",
    "version": 3
   },
   "file_extension": ".py",
   "mimetype": "text/x-python",
   "name": "python",
   "nbconvert_exporter": "python",
   "pygments_lexer": "ipython3",
   "version": "3.12.4"
  }
 },
 "nbformat": 4,
 "nbformat_minor": 5
}
